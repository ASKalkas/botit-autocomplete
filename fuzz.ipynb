{
 "cells": [
  {
   "cell_type": "code",
   "execution_count": 2,
   "id": "19a905b6",
   "metadata": {},
   "outputs": [],
   "source": [
    "from dotenv import load_dotenv\n",
    "load_dotenv(override=True)\n",
    "import json, re, collections, pathlib, os, time\n",
    "from rapidfuzz import process, fuzz\n",
    "import nltk\n",
    "from nltk.corpus import stopwords"
   ]
  },
  {
   "cell_type": "code",
   "execution_count": 3,
   "id": "73861b57",
   "metadata": {},
   "outputs": [
    {
     "data": {
      "text/plain": [
       "True"
      ]
     },
     "execution_count": 3,
     "metadata": {},
     "output_type": "execute_result"
    }
   ],
   "source": [
    "nltk.download('stopwords', quiet=True)"
   ]
  },
  {
   "cell_type": "code",
   "execution_count": 4,
   "id": "73d599d2",
   "metadata": {},
   "outputs": [],
   "source": [
    "STOPWORDS = set(stopwords.words('english'))\n",
    "JSON_DIR = pathlib.Path(os.getenv(\"JSON_DIR\"))"
   ]
  },
  {
   "cell_type": "code",
   "execution_count": 5,
   "id": "62230cad",
   "metadata": {},
   "outputs": [],
   "source": [
    "with open(JSON_DIR, encoding=\"utf-8\") as f:\n",
    "    docs = json.load(f)"
   ]
  },
  {
   "cell_type": "code",
   "execution_count": 6,
   "id": "f6eb2479",
   "metadata": {},
   "outputs": [],
   "source": [
    "FIELDS = [\n",
    "    \"shoppingCategory\",\n",
    "    \"shoppingSubcategory\",\n",
    "    \"itemCategory\",\n",
    "    \"itemSubcategory\",\n",
    "    \"name\",\n",
    "]"
   ]
  },
  {
   "cell_type": "code",
   "execution_count": 7,
   "id": "b451a60e",
   "metadata": {},
   "outputs": [],
   "source": [
    "entries = [\n",
    "    (idx, fld, val.strip())\n",
    "    for idx, doc in enumerate(docs)\n",
    "    for fld in FIELDS\n",
    "    for val in [str(doc.get(fld, \"\"))]\n",
    "    if val.strip()               # skip empty / missing fields\n",
    "]"
   ]
  },
  {
   "cell_type": "code",
   "execution_count": 8,
   "id": "61d10e67",
   "metadata": {},
   "outputs": [],
   "source": [
    "entry_strings = [val for _, _, val in entries]"
   ]
  },
  {
   "cell_type": "code",
   "execution_count": 9,
   "id": "f10b59f4",
   "metadata": {},
   "outputs": [],
   "source": [
    "tokenizer = re.compile(r\"\\b\\w+\\b\", re.U)"
   ]
  },
  {
   "cell_type": "code",
   "execution_count": 10,
   "id": "49e95622",
   "metadata": {},
   "outputs": [],
   "source": [
    "def autocomplete(query: str, matches_to_consider: int = 30, top_words: int = 1):\n",
    "    \"\"\"\n",
    "    Return the most common word(s) inside the fuzzy-matched documents.\n",
    "    • matches_to_consider – how many top fuzzy hits to examine\n",
    "    • top_words – 1 ⇒ single best suggestion, >1 ⇒ a list\n",
    "    \"\"\"\n",
    "    if not query:\n",
    "        return []\n",
    "\n",
    "\n",
    "    # Step 1: fuzzy match the query against the corpus\n",
    "    best = process.extract(\n",
    "        query,\n",
    "        entry_strings,\n",
    "        scorer=fuzz.WRatio,        # weighted Levenshtein               [[3]]\n",
    "        limit=matches_to_consider\n",
    "    )\n",
    "\n",
    "\n",
    "    # Step 2: grab the raw strings of the matched docs\n",
    "    matched_strings = [hit[0] for hit in best]\n",
    "\n",
    "\n",
    "    # Step 3: tokenize → lowercase → drop stop-words\n",
    "    tokens = [\n",
    "        t.lower()\n",
    "        for s in matched_strings\n",
    "        for t in tokenizer.findall(s)\n",
    "        if t.lower() not in STOPWORDS\n",
    "    ]\n",
    "\n",
    "\n",
    "    if not tokens:\n",
    "        return []\n",
    "\n",
    "\n",
    "    # Step 4: count & return the most common word(s)\n",
    "    common = collections.Counter(tokens).most_common(top_words)\n",
    "    return [w for w, _ in common] if top_words > 1 else common[0][0]"
   ]
  },
  {
   "cell_type": "code",
   "execution_count": 11,
   "id": "be161823",
   "metadata": {},
   "outputs": [
    {
     "name": "stdout",
     "output_type": "stream",
     "text": [
      "Suggestion(s): ['beauty', 'bronzer'], time: 1.506448745727539\n",
      "Suggestion(s): ['eyebrow', 'sweet', 'straw'], time: 1.5272464752197266\n"
     ]
    }
   ],
   "source": [
    "while True:\n",
    "    q = input(\"\\nSearch (blank to quit): \").strip()\n",
    "    if not q:\n",
    "        break\n",
    "    start = time.time()\n",
    "    suggestion = autocomplete(q, matches_to_consider=40, top_words=3)\n",
    "    end = time.time()\n",
    "    print(f\"Suggestion(s): {suggestion}, time: {end-start}\")"
   ]
  }
 ],
 "metadata": {
  "kernelspec": {
   "display_name": ".venv",
   "language": "python",
   "name": "python3"
  },
  "language_info": {
   "codemirror_mode": {
    "name": "ipython",
    "version": 3
   },
   "file_extension": ".py",
   "mimetype": "text/x-python",
   "name": "python",
   "nbconvert_exporter": "python",
   "pygments_lexer": "ipython3",
   "version": "3.12.3"
  }
 },
 "nbformat": 4,
 "nbformat_minor": 5
}
