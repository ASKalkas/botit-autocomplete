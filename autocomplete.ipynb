{
 "cells": [
  {
   "cell_type": "markdown",
   "id": "ffe17f91",
   "metadata": {},
   "source": [
    "# Setup imports and environmental variables"
   ]
  },
  {
   "cell_type": "code",
   "execution_count": 1,
   "id": "fe4de46d",
   "metadata": {},
   "outputs": [],
   "source": [
    "from dotenv import load_dotenv\n",
    "load_dotenv(override=True)\n",
    "import os, time"
   ]
  },
  {
   "cell_type": "code",
   "execution_count": 2,
   "id": "57e8495d",
   "metadata": {},
   "outputs": [],
   "source": [
    "UNIQUE_DIR = os.getenv(\"UNIQUE_DIR\")"
   ]
  },
  {
   "cell_type": "markdown",
   "id": "e9235d41",
   "metadata": {},
   "source": [
    "# Loading unique strings from text file to be used in search"
   ]
  },
  {
   "cell_type": "code",
   "execution_count": null,
   "id": "6d6ae868",
   "metadata": {},
   "outputs": [],
   "source": [
    "# Read words from file\n",
    "lines = []\n",
    "counts= {}\n",
    "with open(UNIQUE_DIR, 'r') as f:\n",
    "    for line in f:\n",
    "        if not line.strip(): continue\n",
    "        \n",
    "        line_split = line.split(\",\")\n",
    "        line_cleaned = line_split[0].strip()\n",
    "\n",
    "        lines.append(line_cleaned)\n",
    "        counts[line_cleaned] =  int(line_split[1].strip())\n",
    "\n",
    "# Sort words alphabetically\n",
    "lines.sort()"
   ]
  },
  {
   "cell_type": "code",
   "execution_count": 5,
   "id": "8809d20a",
   "metadata": {},
   "outputs": [],
   "source": [
    "total = 0\n",
    "for num in list(counts.values()):\n",
    "    total += num"
   ]
  },
  {
   "cell_type": "code",
   "execution_count": 6,
   "id": "794e4ace",
   "metadata": {},
   "outputs": [
    {
     "name": "stdout",
     "output_type": "stream",
     "text": [
      "103260\n",
      "722000\n"
     ]
    }
   ],
   "source": [
    "print(len(lines))\n",
    "print(total)"
   ]
  },
  {
   "cell_type": "markdown",
   "id": "ca8f1ad0",
   "metadata": {},
   "source": [
    "# Use binary search to find lower bound and upper bound for prefix in list"
   ]
  },
  {
   "cell_type": "code",
   "execution_count": null,
   "id": "7b55c10f",
   "metadata": {},
   "outputs": [],
   "source": [
    "def prefix_range(words, prefix):\n",
    "    # Find range of words matching the prefix\n",
    "    import bisect\n",
    "    \n",
    "    left = bisect.bisect_left(words, prefix)\n",
    "    def next_prefix(s):\n",
    "        if not s: return s\n",
    "        s_list = list(s)\n",
    "        for i in range(len(s_list)-1, -1, -1):\n",
    "            if s_list[i] != 'z':\n",
    "                s_list[i] = chr(ord(s_list[i]) + 1)\n",
    "                return ''.join(s_list[:i+1])\n",
    "        return s + 'a'\n",
    "    right = bisect.bisect_left(words, next_prefix(prefix))\n",
    "    return left, right\n",
    "\n",
    "# Function to get autocomplete suggestions\n",
    "def get_autocomplete(prefix):\n",
    "    left, right = prefix_range(lines, prefix)\n",
    "    return lines[left:right]"
   ]
  },
  {
   "cell_type": "code",
   "execution_count": 8,
   "id": "28d8f390",
   "metadata": {},
   "outputs": [
    {
     "name": "stdout",
     "output_type": "stream",
     "text": [
      "['washable luggage cover wash able', 'washable tablecloth wash able table cloth', 'washable espadrille wash able', 'washable hose hookah wash able', 'washable towel wash able', 'washable cover prayer mat wash able', 'washable diaper wash able dia per', 'washresistance tshirt', 'waste tank sharpener', 'wash side jean', 'washable coaster wash able', 'washable table cloth wash able', 'wasabi sushi', 'washable cushion pet bed wash able', 'washable mattress cover wash able', 'washable mattress protector wash able', 'washable onesie wash able', 'washed cap', 'washed pant', 'washed tee', 'washing dish glove', 'washable basket wash able', 'washable cover mattress wash able', 'washable cover pillow wash able', 'washable fabric espadrille wash able', 'washable kitchen towel wash able', 'washable pillow wash able', 'washable slipper wash able slip per', 'washable yoga mat wash able', 'washed grey jean', 'washed hoodie', 'washed jacket', 'washed olive pant', 'washed out pant', 'wasabi cashew', 'wasabi crab nigiri', 'wasabi crab sashimi', 'wasabi eel nigiri', 'wasabi hosomaki roll', 'wasabi hot salmon nigiri', 'wasabi mayo burger', 'wasabi mayo roast beef sandwich', 'wasabi octopus nigiri', 'wasabi octopus sashimi', 'wasabi salmon', 'wasabi salmon nigiri', 'wasabi salmon sashimi', 'wasabi salmon sashimi roll', 'wasabi salmon tempura', 'wasabi shrimp crab nigiri', 'wasabi shrimp nigiri', 'wasabi shrimp sashimi', 'wasabi shrimp tempura nigiri', 'wasabi tuna nigiri', 'wasabi tuna sashimi', 'wash cloth set', 'wash fish soap', 'wash fruit strainer', 'wash meat soap', 'wash poultry soap', 'wash vegetable strainer', 'washable adhesive tape wash able', 'washable ankle guard wash able', 'washable board wash able', 'washable cake slicer wash able', 'washable carry bag wash able', 'washable crayon wash able', 'washable filter pet grooming set wash able', 'washable inner hat helmet wash able', 'washable mat litter wash able', 'washable measuring spoon wash able', 'washable mule wash able', 'washable nut tray wash able', 'washable paint wash able', 'washable pet feeding kit wash able', 'washable pet hair remover wash able', 'washable placemat wash able place mat', 'washable plate wash able', 'washable play mat wash able', 'washable toy wash able', 'washable tracksuit wash able track suit', 'washable wood tray wash able', 'washable wooden spice tower wash able', 'washable wooden spoon wash able', 'washed beige pant', 'washed beige pullover', 'washed blazer', 'washed blue jean', 'washed coat', 'washed coffee', 'washed dark grey pant', 'washed grey jacket', 'washed grey outfit', 'washed grey pant', 'washed grey tee', 'washed grey top', 'washed mule', 'washed orange top', 'washed top', 'washed vest', 'washing basket', 'washing fruit colander', 'washing hand book', 'washing machine drum armchair', 'washing vegetable colander', 'washington square press book', 'wasp killer', 'waste armchair', 'waste bag']\n",
      "time: 0.32830238342285156\n"
     ]
    }
   ],
   "source": [
    "start = time.time()\n",
    "result = get_autocomplete(\"was\")\n",
    "result.sort(key=counts.get, reverse=True)\n",
    "print(result)\n",
    "print(f\"time: {(time.time() - start)*1000}\")"
   ]
  }
 ],
 "metadata": {
  "kernelspec": {
   "display_name": ".venv",
   "language": "python",
   "name": "python3"
  },
  "language_info": {
   "codemirror_mode": {
    "name": "ipython",
    "version": 3
   },
   "file_extension": ".py",
   "mimetype": "text/x-python",
   "name": "python",
   "nbconvert_exporter": "python",
   "pygments_lexer": "ipython3",
   "version": "3.12.3"
  }
 },
 "nbformat": 4,
 "nbformat_minor": 5
}
