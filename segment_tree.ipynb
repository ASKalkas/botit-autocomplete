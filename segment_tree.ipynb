{
 "cells": [
  {
   "cell_type": "code",
   "execution_count": 7,
   "id": "fe4de46d",
   "metadata": {},
   "outputs": [],
   "source": [
    "from dotenv import load_dotenv\n",
    "load_dotenv(override=True)\n",
    "import os"
   ]
  },
  {
   "cell_type": "code",
   "execution_count": 8,
   "id": "57e8495d",
   "metadata": {},
   "outputs": [],
   "source": [
    "UNIQUE_DIR = os.getenv(\"UNIQUE_DIR\")"
   ]
  },
  {
   "cell_type": "code",
   "execution_count": 9,
   "id": "8b41ddd3",
   "metadata": {},
   "outputs": [],
   "source": [
    "class SegmentTree:\n",
    "    def __init__(self, data):\n",
    "        self.n = len(data)\n",
    "        self.size = 1\n",
    "        while self.size < self.n:\n",
    "            self.size *= 2\n",
    "        self.tree = [None] * (2 * self.size)\n",
    "        \n",
    "        # Fill leaves with words\n",
    "        for i in range(self.n):\n",
    "            self.tree[self.size + i] = data[i]\n",
    "        for i in range(self.size + self.n, 2 * self.size):\n",
    "            self.tree[i] = None\n",
    "            \n",
    "        # Build internal nodes\n",
    "        for i in range(self.size - 1, 0, -1):\n",
    "            left = self.tree[2 * i]\n",
    "            right = self.tree[2 * i + 1]\n",
    "            self.tree[i] = min(left, right) if left and right else left or right\n"
   ]
  },
  {
   "cell_type": "code",
   "execution_count": 10,
   "id": "7b55c10f",
   "metadata": {},
   "outputs": [],
   "source": [
    "def prefix_range(words, prefix):\n",
    "    # Find range of words matching the prefix\n",
    "    import bisect\n",
    "    \n",
    "    left = bisect.bisect_left(words, prefix)\n",
    "    def next_prefix(s):\n",
    "        if not s: return s\n",
    "        s_list = list(s)\n",
    "        for i in range(len(s_list)-1, -1, -1):\n",
    "            if s_list[i] != 'z':\n",
    "                s_list[i] = chr(ord(s_list[i]) + 1)\n",
    "                return ''.join(s_list[:i+1])\n",
    "        return s + 'a'\n",
    "    right = bisect.bisect_left(words, next_prefix(prefix))\n",
    "    return left, right"
   ]
  },
  {
   "cell_type": "code",
   "execution_count": 13,
   "id": "6d6ae868",
   "metadata": {},
   "outputs": [
    {
     "name": "stdout",
     "output_type": "stream",
     "text": [
      "34283\n"
     ]
    }
   ],
   "source": [
    "# Read words from file\n",
    "with open(UNIQUE_DIR, 'r') as f:\n",
    "    words = [line.strip() for line in f if line.strip()]\n",
    "\n",
    "# Sort words lexicographically\n",
    "words.sort()\n",
    "print(len(words))\n",
    "\n",
    "# Create segment tree\n",
    "seg_tree = SegmentTree(words)\n",
    "\n",
    "# Function to get autocomplete suggestions\n",
    "def get_autocomplete(prefix):\n",
    "    left, right = prefix_range(words, prefix)\n",
    "    return words[left:right]"
   ]
  },
  {
   "cell_type": "code",
   "execution_count": 29,
   "id": "4e803660",
   "metadata": {},
   "outputs": [
    {
     "name": "stdout",
     "output_type": "stream",
     "text": [
      "['stellar']\n"
     ]
    }
   ],
   "source": [
    "print(get_autocomplete(\"stel\"))"
   ]
  }
 ],
 "metadata": {
  "kernelspec": {
   "display_name": ".venv",
   "language": "python",
   "name": "python3"
  },
  "language_info": {
   "codemirror_mode": {
    "name": "ipython",
    "version": 3
   },
   "file_extension": ".py",
   "mimetype": "text/x-python",
   "name": "python",
   "nbconvert_exporter": "python",
   "pygments_lexer": "ipython3",
   "version": "3.12.3"
  }
 },
 "nbformat": 4,
 "nbformat_minor": 5
}
