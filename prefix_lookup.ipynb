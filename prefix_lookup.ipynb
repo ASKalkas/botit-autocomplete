{
 "cells": [
  {
   "cell_type": "code",
   "execution_count": 19,
   "id": "fe4de46d",
   "metadata": {},
   "outputs": [],
   "source": [
    "from dotenv import load_dotenv\n",
    "load_dotenv(override=True)\n",
    "import os"
   ]
  },
  {
   "cell_type": "code",
   "execution_count": 20,
   "id": "57e8495d",
   "metadata": {},
   "outputs": [],
   "source": [
    "UNIQUE_DIR = os.getenv(\"UNIQUE_DIR\")"
   ]
  },
  {
   "cell_type": "code",
   "execution_count": 21,
   "id": "7b55c10f",
   "metadata": {},
   "outputs": [],
   "source": [
    "def prefix_range(words, prefix):\n",
    "    # Find range of words matching the prefix\n",
    "    import bisect\n",
    "    \n",
    "    left = bisect.bisect_left(words, prefix)\n",
    "    def next_prefix(s):\n",
    "        if not s: return s\n",
    "        s_list = list(s)\n",
    "        for i in range(len(s_list)-1, -1, -1):\n",
    "            if s_list[i] != 'z':\n",
    "                s_list[i] = chr(ord(s_list[i]) + 1)\n",
    "                return ''.join(s_list[:i+1])\n",
    "        return s + 'a'\n",
    "    right = bisect.bisect_left(words, next_prefix(prefix))\n",
    "    return left, right"
   ]
  },
  {
   "cell_type": "code",
   "execution_count": 22,
   "id": "6d6ae868",
   "metadata": {},
   "outputs": [],
   "source": [
    "# Read words from file\n",
    "lines = []\n",
    "counts= {}\n",
    "with open(UNIQUE_DIR, 'r') as f:\n",
    "    for line in f:\n",
    "        if not line.strip(): continue\n",
    "        \n",
    "        line_split = line.split(\",\")\n",
    "        line_cleaned = line_split[0].strip()\n",
    "\n",
    "        lines.append(line_cleaned)\n",
    "        counts[line_cleaned] =  int(line_split[1].strip())"
   ]
  },
  {
   "cell_type": "code",
   "execution_count": 23,
   "id": "7438e92a",
   "metadata": {},
   "outputs": [],
   "source": [
    "# Sort words lexicographically\n",
    "lines.sort()\n",
    "\n",
    "# Function to get autocomplete suggestions\n",
    "def get_autocomplete(prefix):\n",
    "    left, right = prefix_range(lines, prefix)\n",
    "    return lines[left:right]"
   ]
  },
  {
   "cell_type": "code",
   "execution_count": 27,
   "id": "28d8f390",
   "metadata": {},
   "outputs": [
    {
     "name": "stdout",
     "output_type": "stream",
     "text": [
      "['duvet', 'dutch oven', 'duck', 'duct tape']\n"
     ]
    }
   ],
   "source": [
    "result = get_autocomplete(\"du\")\n",
    "result.sort(key=counts.get, reverse=True)\n",
    "print(result)"
   ]
  }
 ],
 "metadata": {
  "kernelspec": {
   "display_name": ".venv",
   "language": "python",
   "name": "python3"
  },
  "language_info": {
   "codemirror_mode": {
    "name": "ipython",
    "version": 3
   },
   "file_extension": ".py",
   "mimetype": "text/x-python",
   "name": "python",
   "nbconvert_exporter": "python",
   "pygments_lexer": "ipython3",
   "version": "3.12.3"
  }
 },
 "nbformat": 4,
 "nbformat_minor": 5
}
